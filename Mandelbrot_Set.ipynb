{
 "cells": [
  {
   "cell_type": "markdown",
   "id": "436ac206-7729-4cb4-8b2f-0919456d5fca",
   "metadata": {},
   "source": [
    "## ##### IMPORT PACKAGES AND DEFINE FUNCTIONS \\#####"
   ]
  },
  {
   "cell_type": "code",
   "execution_count": 1,
   "id": "beccd010-47c8-461e-b3f5-d9a8b6094783",
   "metadata": {},
   "outputs": [],
   "source": [
    "# ----- IMPORT PACKAGES -----\n",
    "# Arrays and operations ...\n",
    "import numpy as np\n",
    "\n",
    "# Plotting ...\n",
    "import matplotlib.pyplot as plt\n",
    "from matplotlib.animation import FuncAnimation\n",
    "import cv2\n",
    "\n",
    "# Parallel computations ...\n",
    "import concurrent.futures\n",
    "import numba\n",
    "from numba import prange, jit\n",
    "\n",
    "# Progress bars and text ...\n",
    "from tqdm.notebook import tqdm\n",
    "from IPython.display import clear_output, display\n",
    "\n",
    "\n",
    "# ----- DEFINE FUNCTIONS -----\n",
    "def generate_frame_lims(initial_center: tuple[float, float], final_center: tuple[float, float], initial_size: float, size_decay: float, num_frames: int) -> tuple[np.ndarray, np.ndarray]:\n",
    "    \"\"\"Return a list of x and y limits for each frame given the initial and final center points,\n",
    "    the initial frame size, the number of frames, and the decay rate for the size.\"\"\"\n",
    "    \n",
    "    # Unpack initial and final center locations ...\n",
    "    x0, y0 = initial_center\n",
    "    xend, yend = final_center\n",
    "    \n",
    "    # Generate arrays of x and y coordinates for each frames' center location ...\n",
    "    x_centers = xend - (size_decay ** np.arange(num_frames)) * (xend - x0)\n",
    "    y_centers = yend - (size_decay ** np.arange(num_frames)) * (yend - y0)\n",
    "    \n",
    "    # Calculate frame sizes using initial size and the frame size decay ...\n",
    "    frame_sizes = initial_size*(size_decay**np.arange(num_frames))\n",
    "    \n",
    "    # Generate arrays of x and y limits for each frame ...\n",
    "    x_lims = np.stack([x_centers - frame_sizes/2, x_centers + frame_sizes/2], axis = 1)\n",
    "    y_lims = np.stack([y_centers - frame_sizes/2, y_centers + frame_sizes/2], axis = 1)\n",
    "   \n",
    "    return x_lims, y_lims\n",
    "\n",
    "\n",
    "def complex_array(x_lims: list[float, float], y_lims: list[float, float], n_pixels: int) -> np.ndarray:\n",
    "    \"\"\"Generate a complex array given the minimum and maximum values of the real and imaginary axes, and the number of pixels in the final image.\"\"\"\n",
    "    \n",
    "    # Unpack frame limits ...\n",
    "    x_min, x_max = x_lims\n",
    "    y_min, y_max = y_lims\n",
    "    \n",
    "    # Generate real and imaginary components of complex array ...\n",
    "    real = np.linspace(x_min, x_max, n_pixels)\n",
    "    imag = np.linspace(y_min, y_max, n_pixels)\n",
    "    \n",
    "    # Return complex array ...\n",
    "    return real[np.newaxis, :] + imag[:, np.newaxis]*1j\n",
    "\n",
    "# Old version of find stable (more pythonic, but far too slow) ...\n",
    "#def find_stable(comp_matrix: np.ndarray, num_iterations: int) -> np.ndarray:\n",
    "#    \"\"\"Return a boolean array of elements in the complex matrix that remain bounded after num_iterations iterations.\"\"\"\n",
    "#    z = 0\n",
    "#    for _ in range(num_iterations):\n",
    "#        z = z**2 + comp_matrix\n",
    "#        \n",
    "#    return abs(z) <= 2\n",
    "\n",
    "@jit(nopython = True, parallel = True)\n",
    "def find_stable(c_array: np.ndarray, iterations_to_bound: int) -> np.ndarray:\n",
    "    \"\"\"\n",
    "    Return a boolean array of elements in a complex matrix \n",
    "    that remain bounded after iterations_to_bound many iterations.\n",
    "    \"\"\"\n",
    "    # Get the height and width of the input array \n",
    "    # and initialise an output array of the same size ...\n",
    "    h, w = c_array.shape\n",
    "    output = np.full((h, w), True)\n",
    "    \n",
    "    # Iterate over the indices of the input array in parallel\n",
    "    for i in prange(h):\n",
    "        for j in prange(w):\n",
    "            # Initialize the (i, j)th complex number z to zero, and \n",
    "            # get the corresponding (i, j)th input complex number c ...\n",
    "            z = 0j\n",
    "            c = c_array[i, j]\n",
    "            \n",
    "            # Iterate up to the specified number of iterations\n",
    "            for k in range(iterations_to_bound):\n",
    "                # Update z according to the Mandelbrot iteration rule\n",
    "                z = z**2 + c\n",
    "                \n",
    "                # If the magnitude of z exceeds 2, mark this input value as unbounded\n",
    "                if abs(z) > 2:\n",
    "                    output[i, j] = False\n",
    "                    break\n",
    "    \n",
    "    # Return the output array\n",
    "    return output\n",
    "\n",
    "# Define the parallel worker function ...\n",
    "def parallel_worker(args: tuple[np.ndarray, np.ndarray]) -> np.ndarray:\n",
    "    \"\"\"Given x and y limits, compute the complex array and find stable points for the Mandelbrot set\"\"\"\n",
    "    # Extract limits and generate the complex array ...\n",
    "    x_lims, y_lims = args\n",
    "    c_array = complex_array(x_lims, y_lims, frame_resolution)\n",
    "    \n",
    "    # Return the stable points ...\n",
    "    return find_stable(c_array, iterations_to_bound)"
   ]
  },
  {
   "cell_type": "markdown",
   "id": "d31389fc-8dd4-4116-a5e3-eb65ce3c88fd",
   "metadata": {},
   "source": [
    "## ##### GENERATE FRAMES \\#####"
   ]
  },
  {
   "cell_type": "code",
   "execution_count": 2,
   "id": "eae9ba3c-58ed-4585-aa4d-07f0e3e840a7",
   "metadata": {},
   "outputs": [
    {
     "data": {
      "application/vnd.jupyter.widget-view+json": {
       "model_id": "3b580c8a533b4167a63021d68653645c",
       "version_major": 2,
       "version_minor": 0
      },
      "text/plain": [
       "  0%|          | 0/450 [00:00<?, ?it/s]"
      ]
     },
     "metadata": {},
     "output_type": "display_data"
    }
   ],
   "source": [
    "# ----- GENERATE THE FRAMES FOR THE MANDELBROT SET ANIMATION -----\n",
    "# x, y coordinates of start and end center locations ...\n",
    "initial_center = (-0.5, 0.0)\n",
    "final_center = (-1.41, 0.0)\n",
    "\n",
    "# Frame sizing ...\n",
    "initial_size = 3.0\n",
    "size_decay = 0.975\n",
    "\n",
    "# Definition of the number of frames to render, the resolution of each frame in pixels, \n",
    "# and the number of iterations to perform to check for bounded values ...\n",
    "num_frames, frame_resolution, iterations_to_bound = 450, 2000, 100\n",
    "\n",
    "# Calculate the x and y limits for each frame ...\n",
    "x_lims_list, y_lims_list = generate_frame_lims(initial_center, final_center, initial_size, size_decay, num_frames)\n",
    "\n",
    "# Create a thread pool with 4 workers ..\n",
    "with concurrent.futures.ThreadPoolExecutor(max_workers = 4) as executor:\n",
    "    # Map the parallel worker function to the frame limit inputs ...\n",
    "    futures = [executor.submit(parallel_worker, args) for args in zip(x_lims_list, y_lims_list)]\n",
    "    \n",
    "    # Display a progress bar ...\n",
    "    for f in tqdm(concurrent.futures.as_completed(futures), total = len(futures)):\n",
    "        pass\n",
    "    \n",
    "    # Collect the results ...\n",
    "    frames = [f.result() for f in futures]"
   ]
  },
  {
   "cell_type": "markdown",
   "id": "665cf1d4-d679-4bc2-9736-8d250b4220b9",
   "metadata": {},
   "source": [
    "## ##### CREATE ANIMATION \\#####"
   ]
  },
  {
   "cell_type": "code",
   "execution_count": 6,
   "id": "e4944771-6d3c-4b46-a5b8-5e3b7cc97790",
   "metadata": {},
   "outputs": [
    {
     "data": {
      "application/vnd.jupyter.widget-view+json": {
       "model_id": "99ba8390c0484c4da90fbe88b0272abc",
       "version_major": 2,
       "version_minor": 0
      },
      "text/plain": [
       "  0%|          | 0/450 [00:00<?, ?it/s]"
      ]
     },
     "metadata": {},
     "output_type": "display_data"
    }
   ],
   "source": [
    "# Convert boolean frame arrays to grayscale images ...\n",
    "frames_gray = [(frame * 255).astype(np.uint8) for frame in frames]\n",
    "\n",
    "# Get shape of frames ...\n",
    "height, width = frames_gray[0].shape\n",
    "\n",
    "# Define output video codec ...\n",
    "fourcc = cv2.VideoWriter_fourcc(*'WMV2')\n",
    "\n",
    "# Create video writer object ...\n",
    "fps = 25\n",
    "out = cv2.VideoWriter('Mandelbrot_Set.avi', fourcc, fps, (width, height), isColor = False)\n",
    "\n",
    "# Write frames to video ...\n",
    "for frame in tqdm(frames_gray):\n",
    "    out.write(frame)\n",
    "\n",
    "# Release video writer object ...\n",
    "out.release()"
   ]
  },
  {
   "cell_type": "code",
   "execution_count": 9,
   "id": "67c3b8fd-96b2-476e-a7fa-68eb98679e62",
   "metadata": {},
   "outputs": [
    {
     "name": "stdout",
     "output_type": "stream",
     "text": [
      "Generating frame 499 of 500 ...\n"
     ]
    },
    {
     "data": {
      "image/png": "[encoded data removed]",
      "text/plain": [
       "<Figure size 1200x1200 with 1 Axes>"
      ]
     },
     "metadata": {},
     "output_type": "display_data"
    }
   ],
   "source": [
    "# Set up plot showing first frame of mandelbrot set ...\n",
    "fig, ax = plt.subplots(1, dpi = 300)\n",
    "img = ax.imshow(\n",
    "    frames[0], cmap = 'binary', \n",
    "    extent = [x_lims_list[0, 0], x_lims_list[0, 1], y_lims_list[0, 0], y_lims_list[0, 1]]\n",
    ")\n",
    "\n",
    "# Add axis labels ...\n",
    "plt.xlabel(r'$\\mathrm{Re}\\{z\\}$')\n",
    "plt.ylabel(r'$\\mathrm{Im}\\{z\\}$')\n",
    "\n",
    "def update(idx: int):\n",
    "    # Print out progress message ...\n",
    "    clear_output(wait = True)\n",
    "    print(f'Generating frame {idx} of {len(frames)} ...')\n",
    "    \n",
    "    # Set the image data and axis ticks ...\n",
    "    img.set(\n",
    "        data = frames[idx],\n",
    "        extent = [x_lims_list[idx, 0], x_lims_list[idx, 1], y_lims_list[idx, 0], y_lims_list[idx, 1]]\n",
    "    )\n",
    "    \n",
    "    # Return imshow handle ...\n",
    "    return [img]\n",
    "\n",
    "# Create the animation ...\n",
    "anim = FuncAnimation(fig, update, frames=len(frames), blit = True)\n",
    "\n",
    "# Save the animation ...\n",
    "anim.save('mandelbrot_set_plot.avi', fps = 25, extra_args = ['-vcodec', 'libx264'])"
   ]
  }
 ],
 "metadata": {
  "kernelspec": {
   "display_name": "Python 3 (ipykernel)",
   "language": "python",
   "name": "python3"
  },
  "language_info": {
   "codemirror_mode": {
    "name": "ipython",
    "version": 3
   },
   "file_extension": ".py",
   "mimetype": "text/x-python",
   "name": "python",
   "nbconvert_exporter": "python",
   "pygments_lexer": "ipython3",
   "version": "3.9.15"
  }
 },
 "nbformat": 4,
 "nbformat_minor": 5
}
